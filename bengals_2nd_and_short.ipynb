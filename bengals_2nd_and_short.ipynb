{
 "cells": [
  {
   "cell_type": "code",
   "execution_count": 1,
   "id": "c6b32e4f",
   "metadata": {},
   "outputs": [],
   "source": [
    "import pandas as pd\n",
    "import numpy as np\n",
    "import matplotlib.pyplot as plt\n",
    "%matplotlib inline\n",
    "import seaborn as sns\n",
    "import sportsdataverse as sdv"
   ]
  },
  {
   "cell_type": "code",
   "execution_count": 2,
   "id": "2a351ea7",
   "metadata": {},
   "outputs": [],
   "source": [
    "pbp = sdv.nfl.load_nfl_pbp(seasons=2021)"
   ]
  },
  {
   "cell_type": "code",
   "execution_count": 3,
   "id": "53c546f8",
   "metadata": {},
   "outputs": [
    {
     "data": {
      "text/html": [
       "<div>\n",
       "<style scoped>\n",
       "    .dataframe tbody tr th:only-of-type {\n",
       "        vertical-align: middle;\n",
       "    }\n",
       "\n",
       "    .dataframe tbody tr th {\n",
       "        vertical-align: top;\n",
       "    }\n",
       "\n",
       "    .dataframe thead th {\n",
       "        text-align: right;\n",
       "    }\n",
       "</style>\n",
       "<table border=\"1\" class=\"dataframe\">\n",
       "  <thead>\n",
       "    <tr style=\"text-align: right;\">\n",
       "      <th></th>\n",
       "      <th>play_id</th>\n",
       "      <th>game_id</th>\n",
       "      <th>old_game_id</th>\n",
       "      <th>home_team</th>\n",
       "      <th>away_team</th>\n",
       "      <th>season_type</th>\n",
       "      <th>week</th>\n",
       "      <th>posteam</th>\n",
       "      <th>posteam_type</th>\n",
       "      <th>defteam</th>\n",
       "      <th>...</th>\n",
       "      <th>out_of_bounds</th>\n",
       "      <th>home_opening_kickoff</th>\n",
       "      <th>qb_epa</th>\n",
       "      <th>xyac_epa</th>\n",
       "      <th>xyac_mean_yardage</th>\n",
       "      <th>xyac_median_yardage</th>\n",
       "      <th>xyac_success</th>\n",
       "      <th>xyac_fd</th>\n",
       "      <th>xpass</th>\n",
       "      <th>pass_oe</th>\n",
       "    </tr>\n",
       "  </thead>\n",
       "  <tbody>\n",
       "    <tr>\n",
       "      <th>0</th>\n",
       "      <td>1.0</td>\n",
       "      <td>2021_01_ARI_TEN</td>\n",
       "      <td>2021091207</td>\n",
       "      <td>TEN</td>\n",
       "      <td>ARI</td>\n",
       "      <td>REG</td>\n",
       "      <td>1</td>\n",
       "      <td>None</td>\n",
       "      <td>None</td>\n",
       "      <td>None</td>\n",
       "      <td>...</td>\n",
       "      <td>0.0</td>\n",
       "      <td>1.0</td>\n",
       "      <td>NaN</td>\n",
       "      <td>NaN</td>\n",
       "      <td>NaN</td>\n",
       "      <td>NaN</td>\n",
       "      <td>NaN</td>\n",
       "      <td>NaN</td>\n",
       "      <td>NaN</td>\n",
       "      <td>NaN</td>\n",
       "    </tr>\n",
       "    <tr>\n",
       "      <th>1</th>\n",
       "      <td>40.0</td>\n",
       "      <td>2021_01_ARI_TEN</td>\n",
       "      <td>2021091207</td>\n",
       "      <td>TEN</td>\n",
       "      <td>ARI</td>\n",
       "      <td>REG</td>\n",
       "      <td>1</td>\n",
       "      <td>TEN</td>\n",
       "      <td>home</td>\n",
       "      <td>ARI</td>\n",
       "      <td>...</td>\n",
       "      <td>0.0</td>\n",
       "      <td>1.0</td>\n",
       "      <td>0.000000</td>\n",
       "      <td>NaN</td>\n",
       "      <td>NaN</td>\n",
       "      <td>NaN</td>\n",
       "      <td>NaN</td>\n",
       "      <td>NaN</td>\n",
       "      <td>NaN</td>\n",
       "      <td>NaN</td>\n",
       "    </tr>\n",
       "    <tr>\n",
       "      <th>2</th>\n",
       "      <td>55.0</td>\n",
       "      <td>2021_01_ARI_TEN</td>\n",
       "      <td>2021091207</td>\n",
       "      <td>TEN</td>\n",
       "      <td>ARI</td>\n",
       "      <td>REG</td>\n",
       "      <td>1</td>\n",
       "      <td>TEN</td>\n",
       "      <td>home</td>\n",
       "      <td>ARI</td>\n",
       "      <td>...</td>\n",
       "      <td>0.0</td>\n",
       "      <td>1.0</td>\n",
       "      <td>-1.399805</td>\n",
       "      <td>NaN</td>\n",
       "      <td>NaN</td>\n",
       "      <td>NaN</td>\n",
       "      <td>NaN</td>\n",
       "      <td>NaN</td>\n",
       "      <td>0.491433</td>\n",
       "      <td>-49.143299</td>\n",
       "    </tr>\n",
       "    <tr>\n",
       "      <th>3</th>\n",
       "      <td>76.0</td>\n",
       "      <td>2021_01_ARI_TEN</td>\n",
       "      <td>2021091207</td>\n",
       "      <td>TEN</td>\n",
       "      <td>ARI</td>\n",
       "      <td>REG</td>\n",
       "      <td>1</td>\n",
       "      <td>TEN</td>\n",
       "      <td>home</td>\n",
       "      <td>ARI</td>\n",
       "      <td>...</td>\n",
       "      <td>0.0</td>\n",
       "      <td>1.0</td>\n",
       "      <td>0.032412</td>\n",
       "      <td>1.165133</td>\n",
       "      <td>5.803177</td>\n",
       "      <td>4.0</td>\n",
       "      <td>0.896654</td>\n",
       "      <td>0.125098</td>\n",
       "      <td>0.697346</td>\n",
       "      <td>30.265415</td>\n",
       "    </tr>\n",
       "    <tr>\n",
       "      <th>4</th>\n",
       "      <td>100.0</td>\n",
       "      <td>2021_01_ARI_TEN</td>\n",
       "      <td>2021091207</td>\n",
       "      <td>TEN</td>\n",
       "      <td>ARI</td>\n",
       "      <td>REG</td>\n",
       "      <td>1</td>\n",
       "      <td>TEN</td>\n",
       "      <td>home</td>\n",
       "      <td>ARI</td>\n",
       "      <td>...</td>\n",
       "      <td>0.0</td>\n",
       "      <td>1.0</td>\n",
       "      <td>-1.532898</td>\n",
       "      <td>0.256036</td>\n",
       "      <td>4.147637</td>\n",
       "      <td>2.0</td>\n",
       "      <td>0.965009</td>\n",
       "      <td>0.965009</td>\n",
       "      <td>0.978253</td>\n",
       "      <td>2.174652</td>\n",
       "    </tr>\n",
       "  </tbody>\n",
       "</table>\n",
       "<p>5 rows × 372 columns</p>\n",
       "</div>"
      ],
      "text/plain": [
       "   play_id          game_id old_game_id home_team away_team season_type  week  \\\n",
       "0      1.0  2021_01_ARI_TEN  2021091207       TEN       ARI         REG     1   \n",
       "1     40.0  2021_01_ARI_TEN  2021091207       TEN       ARI         REG     1   \n",
       "2     55.0  2021_01_ARI_TEN  2021091207       TEN       ARI         REG     1   \n",
       "3     76.0  2021_01_ARI_TEN  2021091207       TEN       ARI         REG     1   \n",
       "4    100.0  2021_01_ARI_TEN  2021091207       TEN       ARI         REG     1   \n",
       "\n",
       "  posteam posteam_type defteam  ... out_of_bounds  home_opening_kickoff  \\\n",
       "0    None         None    None  ...           0.0                   1.0   \n",
       "1     TEN         home     ARI  ...           0.0                   1.0   \n",
       "2     TEN         home     ARI  ...           0.0                   1.0   \n",
       "3     TEN         home     ARI  ...           0.0                   1.0   \n",
       "4     TEN         home     ARI  ...           0.0                   1.0   \n",
       "\n",
       "     qb_epa  xyac_epa  xyac_mean_yardage  xyac_median_yardage xyac_success  \\\n",
       "0       NaN       NaN                NaN                  NaN          NaN   \n",
       "1  0.000000       NaN                NaN                  NaN          NaN   \n",
       "2 -1.399805       NaN                NaN                  NaN          NaN   \n",
       "3  0.032412  1.165133           5.803177                  4.0     0.896654   \n",
       "4 -1.532898  0.256036           4.147637                  2.0     0.965009   \n",
       "\n",
       "    xyac_fd     xpass    pass_oe  \n",
       "0       NaN       NaN        NaN  \n",
       "1       NaN       NaN        NaN  \n",
       "2       NaN  0.491433 -49.143299  \n",
       "3  0.125098  0.697346  30.265415  \n",
       "4  0.965009  0.978253   2.174652  \n",
       "\n",
       "[5 rows x 372 columns]"
      ]
     },
     "execution_count": 3,
     "metadata": {},
     "output_type": "execute_result"
    }
   ],
   "source": [
    "pbp.head()"
   ]
  },
  {
   "cell_type": "code",
   "execution_count": 4,
   "id": "53dca2fc",
   "metadata": {},
   "outputs": [],
   "source": [
    "cin_pbp = pbp[pbp['posteam'] == 'CIN']"
   ]
  },
  {
   "cell_type": "code",
   "execution_count": 5,
   "id": "b1ea02d0",
   "metadata": {},
   "outputs": [],
   "source": [
    "cin_2nd = cin_pbp[(cin_pbp['down'] == 2) & (cin_pbp['yardline_100'] > 20) & (cin_pbp['yardline_100'] < 80)]"
   ]
  },
  {
   "cell_type": "code",
   "execution_count": 6,
   "id": "4335bdc3",
   "metadata": {},
   "outputs": [],
   "source": [
    "cin_2ndshort = cin_2nd[(cin_2nd['ydstogo'] < 4) & cin_2nd['play_type'].isin(['pass', 'run'])]"
   ]
  },
  {
   "cell_type": "code",
   "execution_count": 7,
   "id": "f0c1b21f",
   "metadata": {},
   "outputs": [
    {
     "data": {
      "text/plain": [
       "<seaborn.axisgrid.FacetGrid at 0x227d3d9f970>"
      ]
     },
     "execution_count": 7,
     "metadata": {},
     "output_type": "execute_result"
    },
    {
     "data": {
      "image/png": "[encoded data removed]",
      "text/plain": [
       "<Figure size 360x360 with 1 Axes>"
      ]
     },
     "metadata": {
      "needs_background": "light"
     },
     "output_type": "display_data"
    }
   ],
   "source": [
    "sns.displot(x = 'epa', data = cin_2ndshort)"
   ]
  },
  {
   "cell_type": "code",
   "execution_count": 8,
   "id": "6552e32d",
   "metadata": {},
   "outputs": [],
   "source": [
    "worst_play = cin_2ndshort[cin_2ndshort['epa'] == min(cin_2ndshort['epa'])]"
   ]
  },
  {
   "cell_type": "code",
   "execution_count": 9,
   "id": "eb00fbda",
   "metadata": {},
   "outputs": [
    {
     "name": "stdout",
     "output_type": "stream",
     "text": [
      "33322   -10.688841\n",
      "Name: epa, dtype: float64\n"
     ]
    }
   ],
   "source": [
    "print(worst_play['epa'])"
   ]
  },
  {
   "cell_type": "code",
   "execution_count": 10,
   "id": "d79ef2b3",
   "metadata": {},
   "outputs": [
    {
     "name": "stdout",
     "output_type": "stream",
     "text": [
      "33322    (13:53) 28-J.Mixon right guard to LAC 37 for -3 yards (95-C.Covington). FUMBLES (95-C.Covington), RECOVERED by LAC-20-T.Campbell at LAC 39. 20-T.Campbell for 61 yards, TOUCHDOWN.\n",
      "Name: desc, dtype: object\n"
     ]
    }
   ],
   "source": [
    "pd.options.display.max_colwidth = 1000\n",
    "print(worst_play['desc'])"
   ]
  },
  {
   "cell_type": "code",
   "execution_count": 11,
   "id": "6863f40a",
   "metadata": {},
   "outputs": [],
   "source": [
    "no_worst_play = cin_2ndshort[cin_2ndshort['play_id'] != max(worst_play['play_id'])]"
   ]
  },
  {
   "cell_type": "code",
   "execution_count": 12,
   "id": "294694f1",
   "metadata": {},
   "outputs": [
    {
     "data": {
      "text/plain": [
       "run     31\n",
       "pass    10\n",
       "Name: play_type, dtype: int64"
      ]
     },
     "execution_count": 12,
     "metadata": {},
     "output_type": "execute_result"
    }
   ],
   "source": [
    "no_worst_play['play_type'].value_counts()"
   ]
  },
  {
   "cell_type": "code",
   "execution_count": 13,
   "id": "7d8b0e2c",
   "metadata": {},
   "outputs": [
    {
     "data": {
      "image/png": "[encoded data removed]",
      "text/plain": [
       "<Figure size 432x288 with 1 Axes>"
      ]
     },
     "metadata": {
      "needs_background": "light"
     },
     "output_type": "display_data"
    }
   ],
   "source": [
    "sns.boxplot(x = 'play_type', y = 'epa', data = no_worst_play).set(title = 'EPA Distribution on 2nd & Short (3 yards or less to go)', xlabel = '', ylabel = 'EPA')\n",
    "plt.savefig('epa_distribution.png', dpi = 200)"
   ]
  }
 ],
 "metadata": {
  "kernelspec": {
   "display_name": "Python 3 (ipykernel)",
   "language": "python",
   "name": "python3"
  },
  "language_info": {
   "codemirror_mode": {
    "name": "ipython",
    "version": 3
   },
   "file_extension": ".py",
   "mimetype": "text/x-python",
   "name": "python",
   "nbconvert_exporter": "python",
   "pygments_lexer": "ipython3",
   "version": "3.9.7"
  }
 },
 "nbformat": 4,
 "nbformat_minor": 5
}
